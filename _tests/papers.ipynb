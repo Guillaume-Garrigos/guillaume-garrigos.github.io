{
 "cells": [
  {
   "cell_type": "code",
   "execution_count": 3,
   "id": "2db67db9",
   "metadata": {},
   "outputs": [],
   "source": [
    "import yaml\n",
    "# https://blog.stephane-robert.info/docs/developper/programmation/python/yaml/"
   ]
  },
  {
   "cell_type": "code",
   "execution_count": 4,
   "id": "aaa4e450",
   "metadata": {},
   "outputs": [],
   "source": [
    "# Ouvrir le fichier YAML en mode lecture\n",
    "with open(\"papers.yml\", \"r\") as file:\n",
    "    # Charger le contenu du fichier en tant que dictionnaire Python\n",
    "    file_yml = yaml.safe_load(file)"
   ]
  },
  {
   "cell_type": "code",
   "execution_count": 5,
   "id": "b2e97279",
   "metadata": {},
   "outputs": [],
   "source": [
    "authors = file_yml['authors']\n",
    "papers = file_yml['papers']"
   ]
  },
  {
   "cell_type": "code",
   "execution_count": 6,
   "id": "e40f2ebe",
   "metadata": {},
   "outputs": [
    {
     "data": {
      "text/plain": [
       "{'Garrigos': {'name': 'G. Garrigos',\n",
       "  'website': 'https://guillaume-garrigos.com'},\n",
       " 'Gower': {'name': 'R. M. Gower', 'website': 'https://gowerrobert.github.io/'},\n",
       " 'Loizou': {'name': 'N. Loizou',\n",
       "  'website': 'https://nicolasloizou.github.io/'},\n",
       " 'Oikonomou': {'name': 'D. Oikonomou',\n",
       "  'website': 'https://dimitris-oik.github.io/'},\n",
       " 'Schaipp': {'name': 'F. Schaipp', 'website': 'https://fabian-sp.github.io/'}}"
      ]
     },
     "execution_count": 6,
     "metadata": {},
     "output_type": "execute_result"
    }
   ],
   "source": [
    "authors"
   ]
  },
  {
   "cell_type": "code",
   "execution_count": 7,
   "id": "da736ac6",
   "metadata": {},
   "outputs": [
    {
     "data": {
      "text/plain": [
       "[{'date': datetime.date(2024, 4, 2),\n",
       "  'title': 'Analysis of an Idealized Stochastic Polyak Method and its Application to Black-Box Model Distillation',\n",
       "  'author-list': ['Gower', 'Garrigos', 'Loizou', 'Oikonomou', 'Schaipp'],\n",
       "  'status': None,\n",
       "  'ref': None,\n",
       "  'arxiv': '2504.01898',\n",
       "  'link-editor': None,\n",
       "  'link-slides': '2025-SPS'},\n",
       " {'date': datetime.date(2023, 7, 26),\n",
       "  'title': 'Function Value Learning: Adaptive Learning Rates Based on the Polyak Stepsize and Function Splitting in ERM',\n",
       "  'author-list': ['Garrigos', 'Gower', 'Schaipp'],\n",
       "  'status': None,\n",
       "  'ref': None,\n",
       "  'arxiv': '2307.14528',\n",
       "  'link-editor': None,\n",
       "  'link-slides': None}]"
      ]
     },
     "execution_count": 7,
     "metadata": {},
     "output_type": "execute_result"
    }
   ],
   "source": [
    "papers"
   ]
  },
  {
   "cell_type": "code",
   "execution_count": 8,
   "id": "42dc5bdb",
   "metadata": {},
   "outputs": [],
   "source": [
    "def list_to_readable(liste):\n",
    "    # given a list of strings, return a strong with the elements separated with comma\n",
    "    # except at the end where we put 'and'\n",
    "    if len(liste) == 1:\n",
    "        return liste[0]\n",
    "    elif len(liste) == 0:\n",
    "        return ''\n",
    "    else:\n",
    "        output = ''\n",
    "        for elt in liste[0:-2]:\n",
    "            output = output + elt + ', ' \n",
    "        output += liste[-2] + ' and ' + liste[-1]\n",
    "        return output"
   ]
  },
  {
   "cell_type": "code",
   "execution_count": 9,
   "id": "b6c79994",
   "metadata": {},
   "outputs": [],
   "source": [
    "def author_gets_html(dico):\n",
    "    # receives a dictionary with keys 'name' and 'website' \n",
    "    # adds a new key with the name in html\n",
    "    dico['name-html'] = f\"<a href=' {dico['website']} '>{dico['name']}</a>\"\n",
    "    return"
   ]
  },
  {
   "cell_type": "code",
   "execution_count": 10,
   "id": "75469365",
   "metadata": {},
   "outputs": [
    {
     "data": {
      "text/plain": [
       "{'name': 'G. Garrigos',\n",
       " 'website': 'https://guillaume-garrigos.com',\n",
       " 'name-html': \"<a href=' https://guillaume-garrigos.com '>G. Garrigos</a>\"}"
      ]
     },
     "execution_count": 10,
     "metadata": {},
     "output_type": "execute_result"
    }
   ],
   "source": [
    "author_gets_html(authors['Garrigos'])\n",
    "authors['Garrigos']"
   ]
  },
  {
   "cell_type": "code",
   "execution_count": 11,
   "id": "3688bf7f",
   "metadata": {},
   "outputs": [],
   "source": [
    "# adds to every author a new key: name-html\n",
    "for author in authors.values():\n",
    "    author_gets_html(author)"
   ]
  },
  {
   "cell_type": "code",
   "execution_count": 14,
   "id": "7a34e22b",
   "metadata": {},
   "outputs": [],
   "source": [
    "# adds to every paper two new keys : list of authors with or without html\n",
    "for paper in papers:\n",
    "    # gets the list of authors of this paper\n",
    "    author_names = paper['author-list']\n",
    "\n",
    "    # paper is a dict\n",
    "    paper['authors'] = list_to_readable([authors[author_name]['name'] for author_name in author_names])\n",
    "    paper['authors-html'] = list_to_readable([authors[author_name]['name-html'] for author_name in author_names])"
   ]
  },
  {
   "cell_type": "code",
   "execution_count": 15,
   "id": "3ffb7963",
   "metadata": {},
   "outputs": [
    {
     "data": {
      "text/plain": [
       "[{'date': datetime.date(2024, 4, 2),\n",
       "  'title': 'Analysis of an Idealized Stochastic Polyak Method and its Application to Black-Box Model Distillation',\n",
       "  'author-list': ['Gower', 'Garrigos', 'Loizou', 'Oikonomou', 'Schaipp'],\n",
       "  'status': None,\n",
       "  'ref': None,\n",
       "  'arxiv': '2504.01898',\n",
       "  'link-editor': None,\n",
       "  'link-slides': '2025-SPS',\n",
       "  'authors-html': \"<a href=' https://gowerrobert.github.io/ '>R. M. Gower</a>, <a href=' https://guillaume-garrigos.com '>G. Garrigos</a>, <a href=' https://nicolasloizou.github.io/ '>N. Loizou</a>, <a href=' https://dimitris-oik.github.io/ '>D. Oikonomou</a> and <a href=' https://fabian-sp.github.io/ '>F. Schaipp</a>\",\n",
       "  'authors': 'R. M. Gower, G. Garrigos, N. Loizou, D. Oikonomou and F. Schaipp'},\n",
       " {'date': datetime.date(2023, 7, 26),\n",
       "  'title': 'Function Value Learning: Adaptive Learning Rates Based on the Polyak Stepsize and Function Splitting in ERM',\n",
       "  'author-list': ['Garrigos', 'Gower', 'Schaipp'],\n",
       "  'status': None,\n",
       "  'ref': None,\n",
       "  'arxiv': '2307.14528',\n",
       "  'link-editor': None,\n",
       "  'link-slides': None,\n",
       "  'authors-html': \"<a href=' https://guillaume-garrigos.com '>G. Garrigos</a>, <a href=' https://gowerrobert.github.io/ '>R. M. Gower</a> and <a href=' https://fabian-sp.github.io/ '>F. Schaipp</a>\",\n",
       "  'authors': 'G. Garrigos, R. M. Gower and F. Schaipp'}]"
      ]
     },
     "execution_count": 15,
     "metadata": {},
     "output_type": "execute_result"
    }
   ],
   "source": [
    "papers"
   ]
  },
  {
   "cell_type": "code",
   "execution_count": 16,
   "id": "bf910112",
   "metadata": {},
   "outputs": [
    {
     "data": {
      "text/plain": [
       "{'authors': {'Garrigos': {'name': 'G. Garrigos',\n",
       "   'website': 'https://guillaume-garrigos.com',\n",
       "   'name-html': \"<a href=' https://guillaume-garrigos.com '>G. Garrigos</a>\"},\n",
       "  'Gower': {'name': 'R. M. Gower',\n",
       "   'website': 'https://gowerrobert.github.io/',\n",
       "   'name-html': \"<a href=' https://gowerrobert.github.io/ '>R. M. Gower</a>\"},\n",
       "  'Loizou': {'name': 'N. Loizou',\n",
       "   'website': 'https://nicolasloizou.github.io/',\n",
       "   'name-html': \"<a href=' https://nicolasloizou.github.io/ '>N. Loizou</a>\"},\n",
       "  'Oikonomou': {'name': 'D. Oikonomou',\n",
       "   'website': 'https://dimitris-oik.github.io/',\n",
       "   'name-html': \"<a href=' https://dimitris-oik.github.io/ '>D. Oikonomou</a>\"},\n",
       "  'Schaipp': {'name': 'F. Schaipp',\n",
       "   'website': 'https://fabian-sp.github.io/',\n",
       "   'name-html': \"<a href=' https://fabian-sp.github.io/ '>F. Schaipp</a>\"}},\n",
       " 'papers': [{'date': datetime.date(2024, 4, 2),\n",
       "   'title': 'Analysis of an Idealized Stochastic Polyak Method and its Application to Black-Box Model Distillation',\n",
       "   'author-list': ['Gower', 'Garrigos', 'Loizou', 'Oikonomou', 'Schaipp'],\n",
       "   'status': None,\n",
       "   'ref': None,\n",
       "   'arxiv': '2504.01898',\n",
       "   'link-editor': None,\n",
       "   'link-slides': '2025-SPS',\n",
       "   'authors-html': \"<a href=' https://gowerrobert.github.io/ '>R. M. Gower</a>, <a href=' https://guillaume-garrigos.com '>G. Garrigos</a>, <a href=' https://nicolasloizou.github.io/ '>N. Loizou</a>, <a href=' https://dimitris-oik.github.io/ '>D. Oikonomou</a> and <a href=' https://fabian-sp.github.io/ '>F. Schaipp</a>\",\n",
       "   'authors': 'R. M. Gower, G. Garrigos, N. Loizou, D. Oikonomou and F. Schaipp'},\n",
       "  {'date': datetime.date(2023, 7, 26),\n",
       "   'title': 'Function Value Learning: Adaptive Learning Rates Based on the Polyak Stepsize and Function Splitting in ERM',\n",
       "   'author-list': ['Garrigos', 'Gower', 'Schaipp'],\n",
       "   'status': None,\n",
       "   'ref': None,\n",
       "   'arxiv': '2307.14528',\n",
       "   'link-editor': None,\n",
       "   'link-slides': None,\n",
       "   'authors-html': \"<a href=' https://guillaume-garrigos.com '>G. Garrigos</a>, <a href=' https://gowerrobert.github.io/ '>R. M. Gower</a> and <a href=' https://fabian-sp.github.io/ '>F. Schaipp</a>\",\n",
       "   'authors': 'G. Garrigos, R. M. Gower and F. Schaipp'}]}"
      ]
     },
     "execution_count": 16,
     "metadata": {},
     "output_type": "execute_result"
    }
   ],
   "source": [
    "file_yml"
   ]
  },
  {
   "cell_type": "code",
   "execution_count": 17,
   "id": "91b6d669",
   "metadata": {},
   "outputs": [],
   "source": [
    "# Écrire le dictionnaire Python dans un fichier YAML\n",
    "with open(\"output.yml\", \"w\") as file:\n",
    "    yaml.dump(file_yml, file)"
   ]
  },
  {
   "cell_type": "code",
   "execution_count": null,
   "id": "85a57b3a",
   "metadata": {},
   "outputs": [],
   "source": []
  }
 ],
 "metadata": {
  "kernelspec": {
   "display_name": "base",
   "language": "python",
   "name": "python3"
  },
  "language_info": {
   "codemirror_mode": {
    "name": "ipython",
    "version": 3
   },
   "file_extension": ".py",
   "mimetype": "text/x-python",
   "name": "python",
   "nbconvert_exporter": "python",
   "pygments_lexer": "ipython3",
   "version": "3.12.7"
  }
 },
 "nbformat": 4,
 "nbformat_minor": 5
}
