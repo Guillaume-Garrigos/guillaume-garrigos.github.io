{
 "cells": [
  {
   "cell_type": "code",
   "execution_count": 10,
   "id": "2db67db9",
   "metadata": {},
   "outputs": [],
   "source": [
    "import yaml\n",
    "# https://blog.stephane-robert.info/docs/developper/programmation/python/yaml/"
   ]
  },
  {
   "cell_type": "code",
   "execution_count": 23,
   "id": "aaa4e450",
   "metadata": {},
   "outputs": [],
   "source": [
    "# Ouvrir le fichier YAML en mode lecture\n",
    "with open(\"papers.yml\", \"r\", encoding=\"utf8\") as file:\n",
    "    # Charger le contenu du fichier en tant que dictionnaire Python\n",
    "    file_yml = yaml.safe_load(file)"
   ]
  },
  {
   "cell_type": "code",
   "execution_count": 12,
   "id": "b2e97279",
   "metadata": {},
   "outputs": [],
   "source": [
    "authors = file_yml['authors']\n",
    "papers = file_yml['papers']"
   ]
  },
  {
   "cell_type": "code",
   "execution_count": 13,
   "id": "42dc5bdb",
   "metadata": {},
   "outputs": [],
   "source": [
    "def list_to_readable(liste):\n",
    "    # given a list of strings, return a string with the elements separated with comma\n",
    "    # except at the end where we put 'and'\n",
    "    if len(liste) == 1:\n",
    "        return liste[0]\n",
    "    elif len(liste) == 0:\n",
    "        return ''\n",
    "    else:\n",
    "        output = ''\n",
    "        for elt in liste[0:-2]:\n",
    "            output = output + elt + ', ' \n",
    "        output += liste[-2] + ' and ' + liste[-1]\n",
    "        return output"
   ]
  },
  {
   "cell_type": "code",
   "execution_count": 14,
   "id": "b6c79994",
   "metadata": {},
   "outputs": [],
   "source": [
    "def author_gets_html(dico):\n",
    "    # receives a dictionary with keys 'name' and 'website' \n",
    "    # adds a new key with the name in html\n",
    "    # beware there might be no website\n",
    "    if dico['website'] is not None:\n",
    "        dico['name-html'] = f\"<a href=' {dico['website']} '>{dico['name']}</a>\"\n",
    "    else:\n",
    "        dico['name-html'] = dico['name']\n",
    "    return"
   ]
  },
  {
   "cell_type": "code",
   "execution_count": 15,
   "id": "3688bf7f",
   "metadata": {},
   "outputs": [],
   "source": [
    "# adds to every author a new key: name-html\n",
    "for author in authors.values():\n",
    "    author_gets_html(author)"
   ]
  },
  {
   "cell_type": "code",
   "execution_count": 16,
   "id": "7a34e22b",
   "metadata": {},
   "outputs": [],
   "source": [
    "# adds to every paper two new keys : list of authors with or without html\n",
    "for paper in papers:\n",
    "    # gets the list of authors of this paper\n",
    "    author_names = paper['author-list']\n",
    "\n",
    "    # paper is a dict\n",
    "    paper['authors'] = list_to_readable([authors[author_name]['name'] for author_name in author_names])\n",
    "    paper['authors-html'] = list_to_readable([authors[author_name]['name-html'] for author_name in author_names])"
   ]
  },
  {
   "cell_type": "code",
   "execution_count": 17,
   "id": "d27f7580",
   "metadata": {},
   "outputs": [],
   "source": [
    "import os"
   ]
  },
  {
   "cell_type": "code",
   "execution_count": 18,
   "id": "91b6d669",
   "metadata": {},
   "outputs": [],
   "source": [
    "# Écrire le dictionnaire Python dans un fichier YAML\n",
    "with open(os.path.join(\"compiled\", \"output.yml\"), \"w\") as file:\n",
    "    yaml.dump(file_yml, file, allow_unicode=True)"
   ]
  }
 ],
 "metadata": {
  "kernelspec": {
   "display_name": "base",
   "language": "python",
   "name": "python3"
  },
  "language_info": {
   "codemirror_mode": {
    "name": "ipython",
    "version": 3
   },
   "file_extension": ".py",
   "mimetype": "text/x-python",
   "name": "python",
   "nbconvert_exporter": "python",
   "pygments_lexer": "ipython3",
   "version": "3.12.7"
  }
 },
 "nbformat": 4,
 "nbformat_minor": 5
}
